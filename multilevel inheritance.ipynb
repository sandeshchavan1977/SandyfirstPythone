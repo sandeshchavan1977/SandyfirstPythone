{
 "cells": [
  {
   "cell_type": "code",
   "execution_count": 4,
   "id": "6867621f",
   "metadata": {},
   "outputs": [
    {
     "name": "stdout",
     "output_type": "stream",
     "text": [
      "first number1\n",
      "second number2\n",
      "five number3\n",
      "six number4\n",
      "10\n"
     ]
    }
   ],
   "source": [
    "class c1:\n",
    "    def __init__(self,num1,num2):\n",
    "        self.num8=num1+10\n",
    "        self.num7=num2+20 \n",
    "'''       \n",
    "class c2:\n",
    "    def __init__(self,num3,num4):\n",
    "        self.num3=num3\n",
    "        self.num4=num4  \n",
    "'''         \n",
    "\n",
    "class c3(c1):\n",
    "    def __init__(self,num1,num2,num5,num6):\n",
    "        \n",
    "        c1.__init__(self,num1,num2)\n",
    "        #c2.__init__(self,num3,num4)\n",
    "        self.num5=num5\n",
    "        self.num6=num6\n",
    "                \n",
    "    def add(self):\n",
    "        return num1 + num2+ self.num5 + self.num6\n",
    "\n",
    "a=eval(input(\"first number\"))\n",
    "b=eval(input(\"second number\"))\n",
    "#num3=eval(input(\"third number\"))\n",
    "#num4=eval(input(\"four number\"))\n",
    "c=eval(input(\"five number\"))\n",
    "d=eval(input(\"six number\"))\n",
    "\n",
    "abc=c3(a,b,c,d)\n",
    "print(abc.add())\n",
    "    \n",
    "\n",
    "\n",
    "\n",
    "\n",
    "\n",
    "        "
   ]
  },
  {
   "cell_type": "code",
   "execution_count": null,
   "id": "2b68075c",
   "metadata": {},
   "outputs": [],
   "source": []
  }
 ],
 "metadata": {
  "kernelspec": {
   "display_name": "Python 3",
   "language": "python",
   "name": "python3"
  },
  "language_info": {
   "codemirror_mode": {
    "name": "ipython",
    "version": 3
   },
   "file_extension": ".py",
   "mimetype": "text/x-python",
   "name": "python",
   "nbconvert_exporter": "python",
   "pygments_lexer": "ipython3",
   "version": "3.8.8"
  }
 },
 "nbformat": 4,
 "nbformat_minor": 5
}
